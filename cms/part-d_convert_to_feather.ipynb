{
 "cells": [
  {
   "cell_type": "code",
   "execution_count": 1,
   "metadata": {
    "collapsed": false
   },
   "outputs": [
    {
     "data": {
      "text/plain": [
       "'../data/Medicare_Drug_Spending_PartD_All_Drugs_YTD_2015_12_06_2016.xlsx'"
      ]
     },
     "execution_count": 1,
     "metadata": {},
     "output_type": "execute_result"
    }
   ],
   "source": [
    "# Download and extract the dataset from CMS\n",
    "\n",
    "import requests # to download the dataset\n",
    "import zipfile # to extract from archive\n",
    "import shutil # to write the dataset to file\n",
    "import os # rename file to something more type-able\n",
    "import pandas as pd\n",
    "import numpy as np\n",
    "\n",
    "data_dir = '../data/'\n",
    "\n",
    "url = 'https://www.cms.gov/Research-Statistics-Data-and-Systems/Statistics-Trends-and-Reports/Information-on-Prescription-Drugs/Downloads/Part_D_All_Drugs_2015.zip'\n",
    "response = requests.get(url, stream=True)\n",
    "\n",
    "with open(data_dir + 'dataset.zip', 'wb') as ds_zipout:\n",
    "    shutil.copyfileobj(response.raw, ds_zipout)\n",
    "\n",
    "zip = zipfile.ZipFile(data_dir + 'dataset.zip', 'r')\n",
    "ds_filename = zip.namelist()[0]\n",
    "zip.extract(ds_filename, path=data_dir)"
   ]
  },
  {
   "cell_type": "markdown",
   "metadata": {},
   "source": [
    "We're going to read the data into a `pandas.DataFrame`, but because the data is in several work sheets, we need to read out the right work sheet:"
   ]
  },
  {
   "cell_type": "code",
   "execution_count": 2,
   "metadata": {
    "collapsed": false
   },
   "outputs": [],
   "source": [
    "xls = pd.ExcelFile(\"../data/Medicare_Drug_Spending_PartD_All_Drugs_YTD_2015_12_06_2016.xlsx\")\n",
    "df = xls.parse('Data', skiprows=3)\n",
    "df.index = np.arange(1, len(df) + 1)\n"
   ]
  },
  {
   "cell_type": "code",
   "execution_count": 3,
   "metadata": {
    "collapsed": false
   },
   "outputs": [],
   "source": [
    "# Capture only the drug names (we'll need this later)\n",
    "df_drugnames = df.iloc[:, :2]\n",
    "df_drugnames.columns = [\n",
    "    'drugname_brand',\n",
    "    'drugname_generic'\n",
    "]"
   ]
  },
  {
   "cell_type": "code",
   "execution_count": 4,
   "metadata": {
    "collapsed": false
   },
   "outputs": [],
   "source": [
    "# Strip extraneous whitespace from drug names\n",
    "df_drugnames.loc[:, 'drugname_brand'] = df_drugnames.loc[:, 'drugname_brand'].map(lambda x: x.strip())\n",
    "df_drugnames.loc[:, 'drugname_generic'] = df_drugnames.loc[:, 'drugname_generic'].map(lambda x: x.strip())"
   ]
  },
  {
   "cell_type": "code",
   "execution_count": 5,
   "metadata": {
    "collapsed": true
   },
   "outputs": [],
   "source": [
    "# Serialize drug names to feather file for use in both Python and R\n",
    "import feather\n",
    "feather.write_dataframe(df_drugnames, data_dir + 'drugnames.feather')"
   ]
  },
  {
   "cell_type": "code",
   "execution_count": 6,
   "metadata": {
    "collapsed": false
   },
   "outputs": [],
   "source": [
    "    # Separate column groups by year\n",
    "    cols_by_year = [\n",
    "        { 'year': 2011, 'start': 2, 'end': 12 },\n",
    "        { 'year': 2012, 'start': 12, 'end': 22 },\n",
    "        { 'year': 2013, 'start': 22, 'end': 32 },\n",
    "        { 'year': 2014, 'start': 32, 'end': 42 },\n",
    "        { 'year': 2015, 'start': 42, 'end': 53 },\n",
    "    ]\n",
    "\n",
    "    df_years = {}\n",
    "\n",
    "    col_brandname = 0\n",
    "    col_genericname = 1\n",
    "    for cols in cols_by_year:\n",
    "        year, start, end = cols['year'], cols['start'], cols['end']\n",
    "\n",
    "        df_years[year] = pd.concat(\n",
    "            [\n",
    "                df_drugnames,\n",
    "                df.iloc[:, start:end]\n",
    "            ],\n",
    "            axis=1)"
   ]
  },
  {
   "cell_type": "code",
   "execution_count": 7,
   "metadata": {
    "collapsed": false
   },
   "outputs": [],
   "source": [
    "# Remove 2015's extra column for \"Annual Change in Average Cost Per Unit\" (we can calculate it, anyhow)\n",
    "df_years[2015] = df_years[2015].drop(df_years[2015].columns[-1], axis=1)"
   ]
  },
  {
   "cell_type": "code",
   "execution_count": 8,
   "metadata": {
    "collapsed": false
   },
   "outputs": [],
   "source": [
    "# Drop any rows in each year that have absolutely no data, then reset their row indices\n",
    "for year in df_years:\n",
    "    nonnull_rows = df_years[year].iloc[:, 2:].apply(lambda x: x.notnull().any(), axis=1)\n",
    "    df_years[year] = df_years[year][nonnull_rows]\n",
    "    df_years[year].index = np.arange(1, len(df_years[year]) + 1)"
   ]
  },
  {
   "cell_type": "code",
   "execution_count": 9,
   "metadata": {
    "collapsed": false
   },
   "outputs": [],
   "source": [
    "# Make columns easier to type and more generic w.r.t. year\n",
    "generic_columns = [\n",
    "    \"drugname_brand\",\n",
    "    \"drugname_generic\",\n",
    "    \"claim_count\",\n",
    "    \"total_spending\",\n",
    "    \"user_count\",\n",
    "    \"total_spending_per_user\",\n",
    "    \"unit_count\",\n",
    "    \"unit_cost_wavg\",\n",
    "    \"user_count_non_lowincome\",\n",
    "    \"out_of_pocket_avg_non_lowincome\",\n",
    "    \"user_count_lowincome\",\n",
    "    \"out_of_pocket_avg_lowincome\"\n",
    "]\n",
    "\n",
    "for year in df_years:\n",
    "    df_years[year].columns = generic_columns"
   ]
  },
  {
   "cell_type": "code",
   "execution_count": 10,
   "metadata": {
    "collapsed": false
   },
   "outputs": [],
   "source": [
    "# Cast all column data to appropriate numeric types\n",
    "\n",
    "# Suppress SettingWithCopyWarnings because I think it's\n",
    "# tripping on the fact that we have a dict of DataFrames\n",
    "pd.options.mode.chained_assignment = None\n",
    "for year in df_years:\n",
    "    # Ignore the first two columns, which are strings and contain drug names\n",
    "    for col in df_years[year].columns[2:]:\n",
    "        df_years[year].loc[:, col] = pd.to_numeric(df_years[year][col])\n",
    "pd.options.mode.chained_assignment = 'warn'"
   ]
  },
  {
   "cell_type": "code",
   "execution_count": 11,
   "metadata": {
    "collapsed": false
   },
   "outputs": [],
   "source": [
    "# Serialize data for each year to feather file for use in both Python and R\n",
    "for year in df_years:\n",
    "    feather.write_dataframe(df_years[year], data_dir + 'spending-' + str(year) + '.feather')"
   ]
  }
 ],
 "metadata": {
  "kernelspec": {
   "display_name": "Python 3",
   "language": "python",
   "name": "python3"
  },
  "language_info": {
   "codemirror_mode": {
    "name": "ipython",
    "version": 3
   },
   "file_extension": ".py",
   "mimetype": "text/x-python",
   "name": "python",
   "nbconvert_exporter": "python",
   "pygments_lexer": "ipython3",
   "version": "3.5.3"
  }
 },
 "nbformat": 4,
 "nbformat_minor": 2
}
