{
 "cells": [
  {
   "cell_type": "markdown",
   "metadata": {
    "deletable": true,
    "editable": true
   },
   "source": [
    "# What are the various drugs prescribed for?\n",
    "\n",
    "We need some kind of knowledge of which drug is prescribed for which condition. Thankfully, CMS seems to have this information."
   ]
  },
  {
   "cell_type": "code",
   "execution_count": 1,
   "metadata": {
    "collapsed": false,
    "deletable": true,
    "editable": true
   },
   "outputs": [
    {
     "data": {
      "text/plain": [
       "'../data/2010_PD_Profiles_PUF.csv'"
      ]
     },
     "execution_count": 1,
     "metadata": {},
     "output_type": "execute_result"
    }
   ],
   "source": [
    "import requests # to download the dataset\n",
    "import zipfile # to extract from archive\n",
    "import shutil # to write the dataset to file\n",
    "import os # rename file to something more type-able\n",
    "import numpy as np\n",
    "\n",
    "data_dir = \"../data/\"\n",
    "\n",
    "try:\n",
    "    os.stat(data_dir)\n",
    "except FileNotFoundError:\n",
    "    os.mkdir(data_dir)\n",
    "    \n",
    "url = \"https://www.cms.gov/Research-Statistics-Data-and-Systems/Statistics-Trends-and-Reports/BSAPUFS/Downloads/2010_PD_Profiles_PUF.zip\"\n",
    "response = requests.get(url, stream=True)\n",
    "\n",
    "with open(data_dir + 'drug_profiles_dataset.zip', 'wb') as ds_zipout:\n",
    "    shutil.copyfileobj(response.raw, ds_zipout)\n",
    "\n",
    "zip = zipfile.ZipFile(data_dir + 'drug_profiles_dataset.zip', 'r')\n",
    "ds_filename = zip.namelist()[0]\n",
    "zip.extract(ds_filename, path=data_dir)"
   ]
  },
  {
   "cell_type": "markdown",
   "metadata": {
    "deletable": true,
    "editable": true
   },
   "source": [
    "Let's load the data and have a look at what's in it:"
   ]
  },
  {
   "cell_type": "code",
   "execution_count": 2,
   "metadata": {
    "collapsed": false,
    "deletable": true,
    "editable": true
   },
   "outputs": [],
   "source": [
    "import pandas as pd"
   ]
  },
  {
   "cell_type": "code",
   "execution_count": 3,
   "metadata": {
    "collapsed": false,
    "deletable": true,
    "editable": true
   },
   "outputs": [],
   "source": [
    "puf = pd.read_csv(\"../data/2010_PD_Profiles_PUF.csv\")"
   ]
  },
  {
   "cell_type": "code",
   "execution_count": 4,
   "metadata": {
    "collapsed": false,
    "deletable": true,
    "editable": true
   },
   "outputs": [],
   "source": [
    "puf.columns = np.char.lower(np.array(puf.columns, dtype=str))"
   ]
  },
  {
   "cell_type": "code",
   "execution_count": 5,
   "metadata": {
    "collapsed": false,
    "deletable": true,
    "editable": true
   },
   "outputs": [
    {
     "data": {
      "text/plain": [
       "Index(['bene_sex_ident_cd', 'bene_age_cat_cd', 'rxnorm_rxcui',\n",
       "       'drug_major_class', 'drug_class', 'pde_drug_type_cd', 'plan_type',\n",
       "       'coverage_type', 'benefit_phase', 'drug_benefit_type',\n",
       "       'prescriber_type', 'gap_coverage', 'tier_id', 'mean_rxhcc_score',\n",
       "       'ave_days_supply', 'ave_tot_drug_cost', 'ave_ptnt_pay_amt', 'pde_cnt',\n",
       "       'bene_cnt_cat'],\n",
       "      dtype='object')"
      ]
     },
     "execution_count": 5,
     "metadata": {},
     "output_type": "execute_result"
    }
   ],
   "source": [
    "puf.columns"
   ]
  },
  {
   "cell_type": "markdown",
   "metadata": {
    "deletable": true,
    "editable": true
   },
   "source": [
    "Let's save the whole data set to file, even though we only need part right now:"
   ]
  },
  {
   "cell_type": "code",
   "execution_count": 6,
   "metadata": {
    "collapsed": true,
    "deletable": true,
    "editable": true
   },
   "outputs": [],
   "source": [
    "puf.to_csv(\"../data/prescription_drug_profiles.csv\", sep= \"\\t\", index=False)"
   ]
  },
  {
   "cell_type": "code",
   "execution_count": 7,
   "metadata": {
    "collapsed": true,
    "deletable": true,
    "editable": true
   },
   "outputs": [],
   "source": [
    "import feather"
   ]
  },
  {
   "cell_type": "code",
   "execution_count": 8,
   "metadata": {
    "collapsed": true,
    "deletable": true,
    "editable": true
   },
   "outputs": [],
   "source": [
    "feather.write_dataframe(puf, data_dir + 'prescription_drug_profiles.feather')"
   ]
  },
  {
   "cell_type": "markdown",
   "metadata": {
    "deletable": true,
    "editable": true
   },
   "source": [
    "Let's drop the columns we don't need right now:"
   ]
  },
  {
   "cell_type": "code",
   "execution_count": 9,
   "metadata": {
    "collapsed": true,
    "deletable": true,
    "editable": true
   },
   "outputs": [],
   "source": [
    "puf.drop(\"bene_sex_ident_cd\", axis=1, inplace=True)\n",
    "puf.drop(\"bene_age_cat_cd\", axis=1, inplace=True)\n",
    "puf.drop(\"pde_drug_type_cd\", axis=1, inplace=True)\n",
    "puf.drop(\"plan_type\", axis=1, inplace=True)\n",
    "puf.drop([\"coverage_type\", \"benefit_phase\",\"drug_benefit_type\",\n",
    "         \"prescriber_type\", \"gap_coverage\", \"tier_id\", \"mean_rxhcc_score\",\n",
    "         \"ave_days_supply\", \"ave_tot_drug_cost\", \"ave_ptnt_pay_amt\",\n",
    "         \"pde_cnt\", \"bene_cnt_cat\"], axis=1, inplace=True)"
   ]
  },
  {
   "cell_type": "code",
   "execution_count": 10,
   "metadata": {
    "collapsed": false,
    "deletable": true,
    "editable": true
   },
   "outputs": [
    {
     "data": {
      "text/plain": [
       "1229"
      ]
     },
     "execution_count": 10,
     "metadata": {},
     "output_type": "execute_result"
    }
   ],
   "source": [
    "len(puf[\"rxnorm_rxcui\"].unique())"
   ]
  },
  {
   "cell_type": "markdown",
   "metadata": {
    "deletable": true,
    "editable": true
   },
   "source": [
    "## RXNorm Identifiers\n",
    "\n",
    "I need the identifiers for the `RXNORM_RXCUI` column and the `DRUG_MAJOR_CLASS` column.\n",
    "\n",
    "The former comes from the NIH in the form of a downloadable data table:"
   ]
  },
  {
   "cell_type": "code",
   "execution_count": 11,
   "metadata": {
    "collapsed": false,
    "deletable": true,
    "editable": true
   },
   "outputs": [],
   "source": [
    "data_dir = '../data/'\n",
    "url = \"https://download.nlm.nih.gov/rxnorm/RxNorm_full_prescribe_01032017.zip\"\n",
    "response = requests.get(url, stream=True)\n",
    "\n",
    "with open(data_dir + 'rxnorm_dataset.zip', 'wb') as ds_zipout:\n",
    "    shutil.copyfileobj(response.raw, ds_zipout)\n",
    "\n",
    "try:\n",
    "    os.stat(data_dir+\"rxnorm/\")\n",
    "except FileNotFoundError:\n",
    "    os.mkdir(data_dir+\"rxnorm/\")\n",
    "    \n",
    "zip = zipfile.ZipFile(data_dir + 'rxnorm_dataset.zip', 'r')\n",
    "\n",
    "ds_filenames = zip.namelist()\n",
    "\n",
    "for d in ds_filenames:\n",
    "    zip.extract(d, path=data_dir+\"rxnorm/\")\n"
   ]
  },
  {
   "cell_type": "markdown",
   "metadata": {
    "deletable": true,
    "editable": true
   },
   "source": [
    "Columns:\n",
    "\n",
    "* RXCUI\tRxNorm Unique identifier for concept (concept ID)\n",
    "* LAT\tLanguage of Term\n",
    "* TS\tTerm status (no value provided)\n",
    "* LUI\tUnique identifier for term (no value provided)\n",
    "* STT\tString type (no value provided)\n",
    "* SUI\tUnique identifier for string (no value provided)\n",
    "* ISPREF\tAtom status - preferred (Y) or not (N) for this string within this concept (no value provided)\n",
    "* RXAUI\tUnique identifier for atom (RxNorm Atom ID)\n",
    "* SAUI\tSource asserted atom identifier [optional]\n",
    "* SCUI\tSource asserted concept identifier [optional]\n",
    "* SDUI\tSource asserted descriptor identifier [optional]\n",
    "* SAB\tSource abbreviation\n",
    "* TTY\tTerm type in source\n",
    "* CODE\t\"Most useful\" source asserted identifier (if the source vocabulary has more than one identifier), or a RxNorm-generated source entry identifier (if the source vocabulary has none.)\n",
    "* STR\tString\n",
    "* SRL\tSource Restriction Level (no value provided)\n",
    "* SUPPRESS\tSuppressible flag. Values = N, O, Y, or E. N - not suppressible. O - Specific individual names (atoms) set as Obsolete because the name is no longer provided by the original source. Y - Suppressed by RxNorm editor. E - unquantified, non-prescribable drug with related quantified, prescribable drugs. NLM strongly recommends that users not alter editor-assigned suppressibility.\n",
    "* CVF"
   ]
  },
  {
   "cell_type": "code",
   "execution_count": 12,
   "metadata": {
    "collapsed": false,
    "deletable": true,
    "editable": true
   },
   "outputs": [],
   "source": [
    "names = [\"RXNORM_RXCUI\", \"LAT\", \"TS\", \"LUI\", \"STT\", \"SUI\", \"ISPREF\", \"RXAUI\",\n",
    "         \"SAUI\", \"SCUI\", \"SDUI\", \"SAB\", \"TTY\", \"CODE\", \"STR\", \"SRL\", \"SUPPRESS\", \"CVF\"]\n",
    "\n",
    "rxnorm = pd.read_csv(\"../data/rxnorm/rrf/RXNCONSO.RRF\", sep=\"|\", names=names, index_col=False,\n",
    "                     usecols=[0,14])"
   ]
  },
  {
   "cell_type": "code",
   "execution_count": 13,
   "metadata": {
    "collapsed": false,
    "deletable": true,
    "editable": true
   },
   "outputs": [
    {
     "data": {
      "text/html": [
       "<div>\n",
       "<table border=\"1\" class=\"dataframe\">\n",
       "  <thead>\n",
       "    <tr style=\"text-align: right;\">\n",
       "      <th></th>\n",
       "      <th>RXNORM_RXCUI</th>\n",
       "      <th>STR</th>\n",
       "    </tr>\n",
       "  </thead>\n",
       "  <tbody>\n",
       "    <tr>\n",
       "      <th>0</th>\n",
       "      <td>38</td>\n",
       "      <td>Parlodel</td>\n",
       "    </tr>\n",
       "    <tr>\n",
       "      <th>1</th>\n",
       "      <td>44</td>\n",
       "      <td>mesna</td>\n",
       "    </tr>\n",
       "    <tr>\n",
       "      <th>2</th>\n",
       "      <td>44</td>\n",
       "      <td>MESNA</td>\n",
       "    </tr>\n",
       "    <tr>\n",
       "      <th>3</th>\n",
       "      <td>44</td>\n",
       "      <td>Mesna</td>\n",
       "    </tr>\n",
       "    <tr>\n",
       "      <th>4</th>\n",
       "      <td>73</td>\n",
       "      <td>Docosahexaenoate</td>\n",
       "    </tr>\n",
       "  </tbody>\n",
       "</table>\n",
       "</div>"
      ],
      "text/plain": [
       "   RXNORM_RXCUI               STR\n",
       "0            38          Parlodel\n",
       "1            44             mesna\n",
       "2            44             MESNA\n",
       "3            44             Mesna\n",
       "4            73  Docosahexaenoate"
      ]
     },
     "execution_count": 13,
     "metadata": {},
     "output_type": "execute_result"
    }
   ],
   "source": [
    "rxnorm.head()"
   ]
  },
  {
   "cell_type": "markdown",
   "metadata": {
    "deletable": true,
    "editable": true
   },
   "source": [
    "Let's store those, too:"
   ]
  },
  {
   "cell_type": "code",
   "execution_count": 14,
   "metadata": {
    "collapsed": true,
    "deletable": true,
    "editable": true
   },
   "outputs": [],
   "source": [
    "rxnorm.columns = np.char.lower(np.array(rxnorm.columns, dtype=str))"
   ]
  },
  {
   "cell_type": "code",
   "execution_count": 15,
   "metadata": {
    "collapsed": false,
    "deletable": true,
    "editable": true
   },
   "outputs": [
    {
     "data": {
      "text/plain": [
       "Index(['rxnorm_rxcui', 'str'], dtype='object')"
      ]
     },
     "execution_count": 15,
     "metadata": {},
     "output_type": "execute_result"
    }
   ],
   "source": [
    "rxnorm.columns"
   ]
  },
  {
   "cell_type": "code",
   "execution_count": 16,
   "metadata": {
    "collapsed": false,
    "deletable": true,
    "editable": true
   },
   "outputs": [],
   "source": [
    "rxnorm[\"str\"] = np.char.lower(np.array(rxnorm[\"str\"], dtype=str))"
   ]
  },
  {
   "cell_type": "code",
   "execution_count": 17,
   "metadata": {
    "collapsed": false,
    "deletable": true,
    "editable": true
   },
   "outputs": [
    {
     "data": {
      "text/html": [
       "<div>\n",
       "<table border=\"1\" class=\"dataframe\">\n",
       "  <thead>\n",
       "    <tr style=\"text-align: right;\">\n",
       "      <th></th>\n",
       "      <th>rxnorm_rxcui</th>\n",
       "      <th>str</th>\n",
       "    </tr>\n",
       "  </thead>\n",
       "  <tbody>\n",
       "    <tr>\n",
       "      <th>0</th>\n",
       "      <td>38</td>\n",
       "      <td>parlodel</td>\n",
       "    </tr>\n",
       "    <tr>\n",
       "      <th>1</th>\n",
       "      <td>44</td>\n",
       "      <td>mesna</td>\n",
       "    </tr>\n",
       "    <tr>\n",
       "      <th>2</th>\n",
       "      <td>44</td>\n",
       "      <td>mesna</td>\n",
       "    </tr>\n",
       "    <tr>\n",
       "      <th>3</th>\n",
       "      <td>44</td>\n",
       "      <td>mesna</td>\n",
       "    </tr>\n",
       "    <tr>\n",
       "      <th>4</th>\n",
       "      <td>73</td>\n",
       "      <td>docosahexaenoate</td>\n",
       "    </tr>\n",
       "  </tbody>\n",
       "</table>\n",
       "</div>"
      ],
      "text/plain": [
       "   rxnorm_rxcui               str\n",
       "0            38          parlodel\n",
       "1            44             mesna\n",
       "2            44             mesna\n",
       "3            44             mesna\n",
       "4            73  docosahexaenoate"
      ]
     },
     "execution_count": 17,
     "metadata": {},
     "output_type": "execute_result"
    }
   ],
   "source": [
    "rxnorm.head()"
   ]
  },
  {
   "cell_type": "code",
   "execution_count": 18,
   "metadata": {
    "collapsed": true,
    "deletable": true,
    "editable": true
   },
   "outputs": [],
   "source": [
    "rxnorm.to_csv(\"../data/rxnorm_rxcui_name_assoc.csv\", sep=\"\\t\", index=False)"
   ]
  },
  {
   "cell_type": "code",
   "execution_count": 19,
   "metadata": {
    "collapsed": true,
    "deletable": true,
    "editable": true
   },
   "outputs": [],
   "source": [
    "feather.write_dataframe(rxnorm, \"../data/rxnorm_rxcui_name_assoc.feather\")"
   ]
  },
  {
   "cell_type": "code",
   "execution_count": 20,
   "metadata": {
    "collapsed": false,
    "deletable": true,
    "editable": true
   },
   "outputs": [
    {
     "data": {
      "text/html": [
       "<div>\n",
       "<table border=\"1\" class=\"dataframe\">\n",
       "  <thead>\n",
       "    <tr style=\"text-align: right;\">\n",
       "      <th></th>\n",
       "      <th>rxnorm_rxcui</th>\n",
       "      <th>str</th>\n",
       "    </tr>\n",
       "  </thead>\n",
       "  <tbody>\n",
       "    <tr>\n",
       "      <th>30701</th>\n",
       "      <td>228476</td>\n",
       "      <td>gatifloxacin</td>\n",
       "    </tr>\n",
       "    <tr>\n",
       "      <th>30702</th>\n",
       "      <td>228476</td>\n",
       "      <td>gatifloxacin</td>\n",
       "    </tr>\n",
       "    <tr>\n",
       "      <th>30703</th>\n",
       "      <td>228476</td>\n",
       "      <td>gatifloxacin</td>\n",
       "    </tr>\n",
       "  </tbody>\n",
       "</table>\n",
       "</div>"
      ],
      "text/plain": [
       "       rxnorm_rxcui           str\n",
       "30701        228476  gatifloxacin\n",
       "30702        228476  gatifloxacin\n",
       "30703        228476  gatifloxacin"
      ]
     },
     "execution_count": 20,
     "metadata": {},
     "output_type": "execute_result"
    }
   ],
   "source": [
    "rxnorm[rxnorm[\"str\"] == \"gatifloxacin\"]"
   ]
  },
  {
   "cell_type": "markdown",
   "metadata": {
    "deletable": true,
    "editable": true
   },
   "source": [
    "We need alll the names to be lowercase:"
   ]
  },
  {
   "cell_type": "code",
   "execution_count": 21,
   "metadata": {
    "collapsed": true,
    "deletable": true,
    "editable": true
   },
   "outputs": [],
   "source": [
    "rxnorm[\"str\"] = rxnorm[\"str\"].str.lower()"
   ]
  },
  {
   "cell_type": "markdown",
   "metadata": {
    "deletable": true,
    "editable": true
   },
   "source": [
    "We are going load the generic brand names from the Part D table so we can match them to RXCUI identifiers:"
   ]
  },
  {
   "cell_type": "code",
   "execution_count": 22,
   "metadata": {
    "collapsed": false,
    "deletable": true,
    "editable": true
   },
   "outputs": [],
   "source": [
    "drugnames = feather.read_dataframe('../../data/drugnames.feather')"
   ]
  },
  {
   "cell_type": "code",
   "execution_count": 23,
   "metadata": {
    "collapsed": false,
    "deletable": true,
    "editable": true
   },
   "outputs": [
    {
     "data": {
      "text/html": [
       "<div>\n",
       "<table border=\"1\" class=\"dataframe\">\n",
       "  <thead>\n",
       "    <tr style=\"text-align: right;\">\n",
       "      <th></th>\n",
       "      <th>drugname_brand</th>\n",
       "      <th>drugname_generic</th>\n",
       "    </tr>\n",
       "  </thead>\n",
       "  <tbody>\n",
       "    <tr>\n",
       "      <th>0</th>\n",
       "      <td>10 wash</td>\n",
       "      <td>sulfacetamide sodium</td>\n",
       "    </tr>\n",
       "    <tr>\n",
       "      <th>1</th>\n",
       "      <td>1st tier unifine pentips</td>\n",
       "      <td>pen needle, diabetic</td>\n",
       "    </tr>\n",
       "    <tr>\n",
       "      <th>2</th>\n",
       "      <td>1st tier unifine pentips plus</td>\n",
       "      <td>pen needle, diabetic</td>\n",
       "    </tr>\n",
       "    <tr>\n",
       "      <th>3</th>\n",
       "      <td>60pse-400gfn-20dm</td>\n",
       "      <td>guaifenesin/dm/pseudoephedrine</td>\n",
       "    </tr>\n",
       "    <tr>\n",
       "      <th>4</th>\n",
       "      <td>8-mop</td>\n",
       "      <td>methoxsalen</td>\n",
       "    </tr>\n",
       "  </tbody>\n",
       "</table>\n",
       "</div>"
      ],
      "text/plain": [
       "                  drugname_brand                drugname_generic\n",
       "0                        10 wash            sulfacetamide sodium\n",
       "1       1st tier unifine pentips            pen needle, diabetic\n",
       "2  1st tier unifine pentips plus            pen needle, diabetic\n",
       "3              60pse-400gfn-20dm  guaifenesin/dm/pseudoephedrine\n",
       "4                          8-mop                     methoxsalen"
      ]
     },
     "execution_count": 23,
     "metadata": {},
     "output_type": "execute_result"
    }
   ],
   "source": [
    "drugnames.head()"
   ]
  },
  {
   "cell_type": "markdown",
   "metadata": {
    "deletable": true,
    "editable": true
   },
   "source": [
    "### Messing with the Drug Names\n",
    "\n",
    "Some of the drug names have multiple generic names. We need to pull those apart into their own categories. Also, we're going to transform them all to lowercase letters. "
   ]
  },
  {
   "cell_type": "code",
   "execution_count": 24,
   "metadata": {
    "collapsed": true,
    "deletable": true,
    "editable": true
   },
   "outputs": [],
   "source": [
    "drugnames[\"drugname_generic\"] = drugnames[\"drugname_generic\"].str.lower()\n",
    "drugnames[\"drugname_brand\"] = drugnames[\"drugname_brand\"].str.lower()"
   ]
  },
  {
   "cell_type": "code",
   "execution_count": 25,
   "metadata": {
    "collapsed": false,
    "deletable": true,
    "editable": true
   },
   "outputs": [
    {
     "data": {
      "text/html": [
       "<div>\n",
       "<table border=\"1\" class=\"dataframe\">\n",
       "  <thead>\n",
       "    <tr style=\"text-align: right;\">\n",
       "      <th></th>\n",
       "      <th>drugname_brand</th>\n",
       "      <th>drugname_generic</th>\n",
       "    </tr>\n",
       "  </thead>\n",
       "  <tbody>\n",
       "    <tr>\n",
       "      <th>0</th>\n",
       "      <td>10 wash</td>\n",
       "      <td>sulfacetamide sodium</td>\n",
       "    </tr>\n",
       "    <tr>\n",
       "      <th>1</th>\n",
       "      <td>1st tier unifine pentips</td>\n",
       "      <td>pen needle, diabetic</td>\n",
       "    </tr>\n",
       "    <tr>\n",
       "      <th>2</th>\n",
       "      <td>1st tier unifine pentips plus</td>\n",
       "      <td>pen needle, diabetic</td>\n",
       "    </tr>\n",
       "    <tr>\n",
       "      <th>3</th>\n",
       "      <td>60pse-400gfn-20dm</td>\n",
       "      <td>guaifenesin/dm/pseudoephedrine</td>\n",
       "    </tr>\n",
       "    <tr>\n",
       "      <th>4</th>\n",
       "      <td>8-mop</td>\n",
       "      <td>methoxsalen</td>\n",
       "    </tr>\n",
       "  </tbody>\n",
       "</table>\n",
       "</div>"
      ],
      "text/plain": [
       "                  drugname_brand                drugname_generic\n",
       "0                        10 wash            sulfacetamide sodium\n",
       "1       1st tier unifine pentips            pen needle, diabetic\n",
       "2  1st tier unifine pentips plus            pen needle, diabetic\n",
       "3              60pse-400gfn-20dm  guaifenesin/dm/pseudoephedrine\n",
       "4                          8-mop                     methoxsalen"
      ]
     },
     "execution_count": 25,
     "metadata": {},
     "output_type": "execute_result"
    }
   ],
   "source": [
    "drugnames.head()"
   ]
  },
  {
   "cell_type": "markdown",
   "metadata": {
    "deletable": true,
    "editable": true
   },
   "source": [
    "We need a placeholder for the `RXCUI` values:"
   ]
  },
  {
   "cell_type": "code",
   "execution_count": 26,
   "metadata": {
    "collapsed": true,
    "deletable": true,
    "editable": true
   },
   "outputs": [],
   "source": [
    "drugnames[\"rxnorm_rxcui\"] = \"0.0\""
   ]
  },
  {
   "cell_type": "markdown",
   "metadata": {
    "deletable": true,
    "editable": true
   },
   "source": [
    "Now we can try to associate the drug names with their `RXCUI` codes:"
   ]
  },
  {
   "cell_type": "code",
   "execution_count": 27,
   "metadata": {
    "collapsed": false,
    "deletable": true,
    "editable": true
   },
   "outputs": [],
   "source": [
    "for idx in drugnames.index:\n",
    "\n",
    "    rxcui = []\n",
    "\n",
    "    for c in [\"drugname_generic\", \"drugname_brand\"]:\n",
    "        \n",
    "        d = drugnames.loc[idx, c]\n",
    "        dsplit = d.split(\"/\")\n",
    "\n",
    "        for di in dsplit:\n",
    "            displit = di.split(\" \")\n",
    "            v = rxnorm[rxnorm[\"str\"] == displit[0]]\n",
    "\n",
    "            if len(v) > 0:\n",
    "                rxcui.extend(v[\"rxnorm_rxcui\"].unique())\n",
    "            else:\n",
    "                continue\n",
    "\n",
    "    if len(rxcui) > 1:\n",
    "        rxcui_str = \"|\".join(np.array(rxcui, dtype=str))\n",
    "        \n",
    "    elif len(rxcui) == 1:\n",
    "        rxcui_str = str(rxcui[0])\n",
    "    else:\n",
    "        rxcui_str = 0.0\n",
    "    \n",
    "    drugnames.loc[idx, \"rxnorm_rxcui\"] = rxcui_str\n",
    "\n"
   ]
  },
  {
   "cell_type": "markdown",
   "metadata": {
    "deletable": true,
    "editable": true
   },
   "source": [
    "How many am I missing?"
   ]
  },
  {
   "cell_type": "code",
   "execution_count": 28,
   "metadata": {
    "collapsed": false,
    "deletable": true,
    "editable": true
   },
   "outputs": [
    {
     "data": {
      "text/plain": [
       "634"
      ]
     },
     "execution_count": 28,
     "metadata": {},
     "output_type": "execute_result"
    }
   ],
   "source": [
    "len(drugnames[drugnames[\"rxnorm_rxcui\"] == 0.0])"
   ]
  },
  {
   "cell_type": "markdown",
   "metadata": {
    "deletable": true,
    "editable": true
   },
   "source": [
    "What fraction is that of all drug names?"
   ]
  },
  {
   "cell_type": "code",
   "execution_count": 29,
   "metadata": {
    "collapsed": false,
    "deletable": true,
    "editable": true
   },
   "outputs": [
    {
     "data": {
      "text/plain": [
       "0.14095153401511784"
      ]
     },
     "execution_count": 29,
     "metadata": {},
     "output_type": "execute_result"
    }
   ],
   "source": [
    "len(drugnames[drugnames[\"rxnorm_rxcui\"] == 0.0])/len(drugnames)"
   ]
  },
  {
   "cell_type": "markdown",
   "metadata": {
    "deletable": true,
    "editable": true
   },
   "source": [
    "14% isn't so bad as a first turn-out."
   ]
  },
  {
   "cell_type": "code",
   "execution_count": 30,
   "metadata": {
    "collapsed": false,
    "deletable": true,
    "editable": true
   },
   "outputs": [
    {
     "data": {
      "text/html": [
       "<div>\n",
       "<table border=\"1\" class=\"dataframe\">\n",
       "  <thead>\n",
       "    <tr style=\"text-align: right;\">\n",
       "      <th></th>\n",
       "      <th>drugname_brand</th>\n",
       "      <th>drugname_generic</th>\n",
       "      <th>rxnorm_rxcui</th>\n",
       "    </tr>\n",
       "  </thead>\n",
       "  <tbody>\n",
       "    <tr>\n",
       "      <th>1</th>\n",
       "      <td>1st tier unifine pentips</td>\n",
       "      <td>pen needle, diabetic</td>\n",
       "      <td>0</td>\n",
       "    </tr>\n",
       "    <tr>\n",
       "      <th>2</th>\n",
       "      <td>1st tier unifine pentips plus</td>\n",
       "      <td>pen needle, diabetic</td>\n",
       "      <td>0</td>\n",
       "    </tr>\n",
       "    <tr>\n",
       "      <th>22</th>\n",
       "      <td>accusure</td>\n",
       "      <td>syring w-ndl,disp,insul,0.5 ml</td>\n",
       "      <td>0</td>\n",
       "    </tr>\n",
       "    <tr>\n",
       "      <th>23</th>\n",
       "      <td>accusure</td>\n",
       "      <td>syringe and needle,insulin,1ml</td>\n",
       "      <td>0</td>\n",
       "    </tr>\n",
       "    <tr>\n",
       "      <th>26</th>\n",
       "      <td>acetaminoph-caff-dihydrocodein</td>\n",
       "      <td>dhcodeine bt/acetaminophn/caff</td>\n",
       "      <td>0</td>\n",
       "    </tr>\n",
       "  </tbody>\n",
       "</table>\n",
       "</div>"
      ],
      "text/plain": [
       "                    drugname_brand                drugname_generic  \\\n",
       "1         1st tier unifine pentips            pen needle, diabetic   \n",
       "2    1st tier unifine pentips plus            pen needle, diabetic   \n",
       "22                        accusure  syring w-ndl,disp,insul,0.5 ml   \n",
       "23                        accusure  syringe and needle,insulin,1ml   \n",
       "26  acetaminoph-caff-dihydrocodein  dhcodeine bt/acetaminophn/caff   \n",
       "\n",
       "   rxnorm_rxcui  \n",
       "1             0  \n",
       "2             0  \n",
       "22            0  \n",
       "23            0  \n",
       "26            0  "
      ]
     },
     "execution_count": 30,
     "metadata": {},
     "output_type": "execute_result"
    }
   ],
   "source": [
    "drugnames[drugnames[\"rxnorm_rxcui\"] == 0.0].head()"
   ]
  },
  {
   "cell_type": "markdown",
   "metadata": {
    "deletable": true,
    "editable": true
   },
   "source": [
    "This seems to include things like prenatal vitamins, devices (like needles and syringes) and abbreviated names I can't automatically include. \n",
    "**I am going to ignore this for the moment, but we should fix this in the long run!**\n",
    "\n",
    "## Associating Drug Classes\n",
    "\n",
    "Drug classes come originally from the Veteran's Health Administration [National Drug File](http://www.pbm.va.gov/PBM/nationalformulary/NDF_January_2016.xlsx). It turns out, they're also listed in the PUF SAS manual. Go figure:\n"
   ]
  },
  {
   "cell_type": "code",
   "execution_count": 31,
   "metadata": {
    "collapsed": true,
    "deletable": true,
    "editable": true
   },
   "outputs": [],
   "source": [
    "data_dir = '../data/'\n",
    "url = \"https://www.cms.gov/Research-Statistics-Data-and-Systems/Statistics-Trends-and-Reports/BSAPUFS/Downloads/2010_PD_Profiles_PUF_DUG.zip\"\n",
    "response = requests.get(url, stream=True)\n",
    "\n",
    "with open(data_dir + 'drug_classes_dataset.zip', 'wb') as ds_zipout:\n",
    "    shutil.copyfileobj(response.raw, ds_zipout)\n",
    "\n",
    "zip = zipfile.ZipFile(data_dir + 'drug_classes_dataset.zip', 'r')\n",
    "ds_filenames = zip.namelist()\n",
    "for f in ds_filenames:\n",
    "    zip.extract(f, path=data_dir)"
   ]
  },
  {
   "cell_type": "code",
   "execution_count": 32,
   "metadata": {
    "collapsed": false,
    "deletable": true,
    "editable": true
   },
   "outputs": [],
   "source": [
    "drug_major_class = pd.read_csv(data_dir+\"DRUG_MAJOR_CLASS_TABLE.csv\")"
   ]
  },
  {
   "cell_type": "code",
   "execution_count": 33,
   "metadata": {
    "collapsed": false,
    "deletable": true,
    "editable": true
   },
   "outputs": [
    {
     "data": {
      "text/html": [
       "<div>\n",
       "<table border=\"1\" class=\"dataframe\">\n",
       "  <thead>\n",
       "    <tr style=\"text-align: right;\">\n",
       "      <th></th>\n",
       "      <th>drug_major_class</th>\n",
       "      <th>drug_major_class_desc</th>\n",
       "    </tr>\n",
       "  </thead>\n",
       "  <tbody>\n",
       "    <tr>\n",
       "      <th>0</th>\n",
       "      <td>0</td>\n",
       "      <td>UNKNOWN/MISSING</td>\n",
       "    </tr>\n",
       "    <tr>\n",
       "      <th>1</th>\n",
       "      <td>AD000</td>\n",
       "      <td>ANTIDOTES,DETERRENTS AND POISON CONTROL</td>\n",
       "    </tr>\n",
       "    <tr>\n",
       "      <th>2</th>\n",
       "      <td>AH000</td>\n",
       "      <td>ANTIHISTAMINES</td>\n",
       "    </tr>\n",
       "    <tr>\n",
       "      <th>3</th>\n",
       "      <td>AM000</td>\n",
       "      <td>ANTIMICROBIALS</td>\n",
       "    </tr>\n",
       "    <tr>\n",
       "      <th>4</th>\n",
       "      <td>AN000</td>\n",
       "      <td>ANTINEOPLASTICS</td>\n",
       "    </tr>\n",
       "  </tbody>\n",
       "</table>\n",
       "</div>"
      ],
      "text/plain": [
       "  drug_major_class                    drug_major_class_desc\n",
       "0                0                          UNKNOWN/MISSING\n",
       "1            AD000  ANTIDOTES,DETERRENTS AND POISON CONTROL\n",
       "2            AH000                           ANTIHISTAMINES\n",
       "3            AM000                           ANTIMICROBIALS\n",
       "4            AN000                          ANTINEOPLASTICS"
      ]
     },
     "execution_count": 33,
     "metadata": {},
     "output_type": "execute_result"
    }
   ],
   "source": [
    "drug_major_class.head()"
   ]
  },
  {
   "cell_type": "markdown",
   "metadata": {},
   "source": [
    "Let's make the identifiers and class descriptions lower case:"
   ]
  },
  {
   "cell_type": "code",
   "execution_count": 34,
   "metadata": {
    "collapsed": false
   },
   "outputs": [],
   "source": [
    "drug_major_class[\"drug_major_class\"] = drug_major_class[\"drug_major_class\"].str.lower()\n",
    "drug_major_class[\"drug_major_class_desc\"] = drug_major_class[\"drug_major_class_desc\"].str.lower()"
   ]
  },
  {
   "cell_type": "code",
   "execution_count": 35,
   "metadata": {
    "collapsed": false
   },
   "outputs": [
    {
     "data": {
      "text/html": [
       "<div>\n",
       "<table border=\"1\" class=\"dataframe\">\n",
       "  <thead>\n",
       "    <tr style=\"text-align: right;\">\n",
       "      <th></th>\n",
       "      <th>drug_major_class</th>\n",
       "      <th>drug_major_class_desc</th>\n",
       "    </tr>\n",
       "  </thead>\n",
       "  <tbody>\n",
       "    <tr>\n",
       "      <th>0</th>\n",
       "      <td>0</td>\n",
       "      <td>unknown/missing</td>\n",
       "    </tr>\n",
       "    <tr>\n",
       "      <th>1</th>\n",
       "      <td>ad000</td>\n",
       "      <td>antidotes,deterrents and poison control</td>\n",
       "    </tr>\n",
       "    <tr>\n",
       "      <th>2</th>\n",
       "      <td>ah000</td>\n",
       "      <td>antihistamines</td>\n",
       "    </tr>\n",
       "    <tr>\n",
       "      <th>3</th>\n",
       "      <td>am000</td>\n",
       "      <td>antimicrobials</td>\n",
       "    </tr>\n",
       "    <tr>\n",
       "      <th>4</th>\n",
       "      <td>an000</td>\n",
       "      <td>antineoplastics</td>\n",
       "    </tr>\n",
       "  </tbody>\n",
       "</table>\n",
       "</div>"
      ],
      "text/plain": [
       "  drug_major_class                    drug_major_class_desc\n",
       "0                0                          unknown/missing\n",
       "1            ad000  antidotes,deterrents and poison control\n",
       "2            ah000                           antihistamines\n",
       "3            am000                           antimicrobials\n",
       "4            an000                          antineoplastics"
      ]
     },
     "execution_count": 35,
     "metadata": {},
     "output_type": "execute_result"
    }
   ],
   "source": [
    "drug_major_class.head()"
   ]
  },
  {
   "cell_type": "code",
   "execution_count": 36,
   "metadata": {
    "collapsed": true
   },
   "outputs": [],
   "source": [
    "drug_major_class.to_csv(\"../data/cms_drug_major_class.csv\", index=False)"
   ]
  },
  {
   "cell_type": "code",
   "execution_count": 37,
   "metadata": {
    "collapsed": true,
    "deletable": true,
    "editable": true
   },
   "outputs": [],
   "source": [
    "drug_class = pd.read_csv(data_dir+\"DRUG_CLASS_TABLE.csv\")"
   ]
  },
  {
   "cell_type": "code",
   "execution_count": 38,
   "metadata": {
    "collapsed": false,
    "deletable": true,
    "editable": true
   },
   "outputs": [
    {
     "data": {
      "text/html": [
       "<div>\n",
       "<table border=\"1\" class=\"dataframe\">\n",
       "  <thead>\n",
       "    <tr style=\"text-align: right;\">\n",
       "      <th></th>\n",
       "      <th>drug_class</th>\n",
       "      <th>drug_class_desc</th>\n",
       "    </tr>\n",
       "  </thead>\n",
       "  <tbody>\n",
       "    <tr>\n",
       "      <th>0</th>\n",
       "      <td>0</td>\n",
       "      <td>UNKNOWN/MISSING</td>\n",
       "    </tr>\n",
       "    <tr>\n",
       "      <th>1</th>\n",
       "      <td>AD100</td>\n",
       "      <td>ALCOHOL DETERRENTS</td>\n",
       "    </tr>\n",
       "    <tr>\n",
       "      <th>2</th>\n",
       "      <td>AD200</td>\n",
       "      <td>CYANIDE ANTIDOTES</td>\n",
       "    </tr>\n",
       "    <tr>\n",
       "      <th>3</th>\n",
       "      <td>AD300</td>\n",
       "      <td>HEAVY METAL ANTAGONISTS</td>\n",
       "    </tr>\n",
       "    <tr>\n",
       "      <th>4</th>\n",
       "      <td>AD400</td>\n",
       "      <td>ANTIDOTES,DETERRENTS,AND POISON CONTROL EXCHAN...</td>\n",
       "    </tr>\n",
       "  </tbody>\n",
       "</table>\n",
       "</div>"
      ],
      "text/plain": [
       "  drug_class                                    drug_class_desc\n",
       "0          0                                    UNKNOWN/MISSING\n",
       "1      AD100                                 ALCOHOL DETERRENTS\n",
       "2      AD200                                  CYANIDE ANTIDOTES\n",
       "3      AD300                            HEAVY METAL ANTAGONISTS\n",
       "4      AD400  ANTIDOTES,DETERRENTS,AND POISON CONTROL EXCHAN..."
      ]
     },
     "execution_count": 38,
     "metadata": {},
     "output_type": "execute_result"
    }
   ],
   "source": [
    "drug_class.head()"
   ]
  },
  {
   "cell_type": "code",
   "execution_count": 39,
   "metadata": {
    "collapsed": false,
    "deletable": true,
    "editable": true
   },
   "outputs": [],
   "source": [
    "drug_class.replace(to_replace=np.nan, value=\"n/a\", inplace=True)"
   ]
  },
  {
   "cell_type": "markdown",
   "metadata": {},
   "source": [
    "Let's make all of those lowercase, too:"
   ]
  },
  {
   "cell_type": "code",
   "execution_count": 40,
   "metadata": {
    "collapsed": true
   },
   "outputs": [],
   "source": [
    "drug_class[\"drug_class\"] = drug_class[\"drug_class\"].str.lower()\n",
    "drug_class[\"drug_class_desc\"] = drug_class[\"drug_class_desc\"].str.lower()"
   ]
  },
  {
   "cell_type": "code",
   "execution_count": 41,
   "metadata": {
    "collapsed": false
   },
   "outputs": [
    {
     "data": {
      "text/html": [
       "<div>\n",
       "<table border=\"1\" class=\"dataframe\">\n",
       "  <thead>\n",
       "    <tr style=\"text-align: right;\">\n",
       "      <th></th>\n",
       "      <th>drug_class</th>\n",
       "      <th>drug_class_desc</th>\n",
       "    </tr>\n",
       "  </thead>\n",
       "  <tbody>\n",
       "    <tr>\n",
       "      <th>0</th>\n",
       "      <td>0</td>\n",
       "      <td>unknown/missing</td>\n",
       "    </tr>\n",
       "    <tr>\n",
       "      <th>1</th>\n",
       "      <td>ad100</td>\n",
       "      <td>alcohol deterrents</td>\n",
       "    </tr>\n",
       "    <tr>\n",
       "      <th>2</th>\n",
       "      <td>ad200</td>\n",
       "      <td>cyanide antidotes</td>\n",
       "    </tr>\n",
       "    <tr>\n",
       "      <th>3</th>\n",
       "      <td>ad300</td>\n",
       "      <td>heavy metal antagonists</td>\n",
       "    </tr>\n",
       "    <tr>\n",
       "      <th>4</th>\n",
       "      <td>ad400</td>\n",
       "      <td>antidotes,deterrents,and poison control exchan...</td>\n",
       "    </tr>\n",
       "  </tbody>\n",
       "</table>\n",
       "</div>"
      ],
      "text/plain": [
       "  drug_class                                    drug_class_desc\n",
       "0          0                                    unknown/missing\n",
       "1      ad100                                 alcohol deterrents\n",
       "2      ad200                                  cyanide antidotes\n",
       "3      ad300                            heavy metal antagonists\n",
       "4      ad400  antidotes,deterrents,and poison control exchan..."
      ]
     },
     "execution_count": 41,
     "metadata": {},
     "output_type": "execute_result"
    }
   ],
   "source": [
    "drug_class.head()"
   ]
  },
  {
   "cell_type": "markdown",
   "metadata": {},
   "source": [
    "Okay, cool, I think that's all the information I need!\n",
    "\n",
    "Let's save those two to files, too:"
   ]
  },
  {
   "cell_type": "code",
   "execution_count": 42,
   "metadata": {
    "collapsed": true
   },
   "outputs": [],
   "source": [
    "drug_major_class.to_csv(\"../data/cms_drug_major_class.csv\", index=False)\n",
    "drug_class.to_csv(\"../data/cms_drug_class.csv\", index=False)"
   ]
  },
  {
   "cell_type": "markdown",
   "metadata": {
    "deletable": true,
    "editable": true
   },
   "source": [
    "\n",
    "## Adding Drug classes to the Drug information Table\n",
    "\n",
    "We can now use the available information to add a column `drug_major_class` and `drug_class` to the `drugnames` table for use in identification and visualization.\n",
    "\n",
    "To revise, I have four tables:"
   ]
  },
  {
   "cell_type": "code",
   "execution_count": 43,
   "metadata": {
    "collapsed": false,
    "deletable": true,
    "editable": true
   },
   "outputs": [
    {
     "data": {
      "text/html": [
       "<div>\n",
       "<table border=\"1\" class=\"dataframe\">\n",
       "  <thead>\n",
       "    <tr style=\"text-align: right;\">\n",
       "      <th></th>\n",
       "      <th>drugname_brand</th>\n",
       "      <th>drugname_generic</th>\n",
       "      <th>rxnorm_rxcui</th>\n",
       "    </tr>\n",
       "  </thead>\n",
       "  <tbody>\n",
       "    <tr>\n",
       "      <th>0</th>\n",
       "      <td>10 wash</td>\n",
       "      <td>sulfacetamide sodium</td>\n",
       "      <td>10169</td>\n",
       "    </tr>\n",
       "    <tr>\n",
       "      <th>1</th>\n",
       "      <td>1st tier unifine pentips</td>\n",
       "      <td>pen needle, diabetic</td>\n",
       "      <td>0</td>\n",
       "    </tr>\n",
       "    <tr>\n",
       "      <th>2</th>\n",
       "      <td>1st tier unifine pentips plus</td>\n",
       "      <td>pen needle, diabetic</td>\n",
       "      <td>0</td>\n",
       "    </tr>\n",
       "    <tr>\n",
       "      <th>3</th>\n",
       "      <td>60pse-400gfn-20dm</td>\n",
       "      <td>guaifenesin/dm/pseudoephedrine</td>\n",
       "      <td>5032|8896</td>\n",
       "    </tr>\n",
       "    <tr>\n",
       "      <th>4</th>\n",
       "      <td>8-mop</td>\n",
       "      <td>methoxsalen</td>\n",
       "      <td>6854|227713</td>\n",
       "    </tr>\n",
       "  </tbody>\n",
       "</table>\n",
       "</div>"
      ],
      "text/plain": [
       "                  drugname_brand                drugname_generic rxnorm_rxcui\n",
       "0                        10 wash            sulfacetamide sodium        10169\n",
       "1       1st tier unifine pentips            pen needle, diabetic            0\n",
       "2  1st tier unifine pentips plus            pen needle, diabetic            0\n",
       "3              60pse-400gfn-20dm  guaifenesin/dm/pseudoephedrine    5032|8896\n",
       "4                          8-mop                     methoxsalen  6854|227713"
      ]
     },
     "execution_count": 43,
     "metadata": {},
     "output_type": "execute_result"
    }
   ],
   "source": [
    "drugnames.head()"
   ]
  },
  {
   "cell_type": "markdown",
   "metadata": {
    "deletable": true,
    "editable": true
   },
   "source": [
    "With the brand names, the generic names and the RxNorm identifier of the drug. "
   ]
  },
  {
   "cell_type": "code",
   "execution_count": 44,
   "metadata": {
    "collapsed": false,
    "deletable": true,
    "editable": true
   },
   "outputs": [
    {
     "data": {
      "text/html": [
       "<div>\n",
       "<table border=\"1\" class=\"dataframe\">\n",
       "  <thead>\n",
       "    <tr style=\"text-align: right;\">\n",
       "      <th></th>\n",
       "      <th>rxnorm_rxcui</th>\n",
       "      <th>drug_major_class</th>\n",
       "      <th>drug_class</th>\n",
       "    </tr>\n",
       "  </thead>\n",
       "  <tbody>\n",
       "    <tr>\n",
       "      <th>0</th>\n",
       "      <td>0</td>\n",
       "      <td>0</td>\n",
       "      <td>0</td>\n",
       "    </tr>\n",
       "    <tr>\n",
       "      <th>1</th>\n",
       "      <td>0</td>\n",
       "      <td>0</td>\n",
       "      <td>0</td>\n",
       "    </tr>\n",
       "    <tr>\n",
       "      <th>2</th>\n",
       "      <td>0</td>\n",
       "      <td>0</td>\n",
       "      <td>0</td>\n",
       "    </tr>\n",
       "    <tr>\n",
       "      <th>3</th>\n",
       "      <td>0</td>\n",
       "      <td>0</td>\n",
       "      <td>0</td>\n",
       "    </tr>\n",
       "    <tr>\n",
       "      <th>4</th>\n",
       "      <td>0</td>\n",
       "      <td>0</td>\n",
       "      <td>0</td>\n",
       "    </tr>\n",
       "  </tbody>\n",
       "</table>\n",
       "</div>"
      ],
      "text/plain": [
       "   rxnorm_rxcui drug_major_class drug_class\n",
       "0             0                0          0\n",
       "1             0                0          0\n",
       "2             0                0          0\n",
       "3             0                0          0\n",
       "4             0                0          0"
      ]
     },
     "execution_count": 44,
     "metadata": {},
     "output_type": "execute_result"
    }
   ],
   "source": [
    "puf.head()"
   ]
  },
  {
   "cell_type": "markdown",
   "metadata": {
    "deletable": true,
    "editable": true
   },
   "source": [
    "with the RxNorm values as well as major/minor classes of the drug. \n",
    "\n",
    "And finally, "
   ]
  },
  {
   "cell_type": "code",
   "execution_count": 45,
   "metadata": {
    "collapsed": false,
    "deletable": true,
    "editable": true
   },
   "outputs": [
    {
     "data": {
      "text/html": [
       "<div>\n",
       "<table border=\"1\" class=\"dataframe\">\n",
       "  <thead>\n",
       "    <tr style=\"text-align: right;\">\n",
       "      <th></th>\n",
       "      <th>drug_major_class</th>\n",
       "      <th>drug_major_class_desc</th>\n",
       "    </tr>\n",
       "  </thead>\n",
       "  <tbody>\n",
       "    <tr>\n",
       "      <th>0</th>\n",
       "      <td>0</td>\n",
       "      <td>unknown/missing</td>\n",
       "    </tr>\n",
       "    <tr>\n",
       "      <th>1</th>\n",
       "      <td>ad000</td>\n",
       "      <td>antidotes,deterrents and poison control</td>\n",
       "    </tr>\n",
       "    <tr>\n",
       "      <th>2</th>\n",
       "      <td>ah000</td>\n",
       "      <td>antihistamines</td>\n",
       "    </tr>\n",
       "    <tr>\n",
       "      <th>3</th>\n",
       "      <td>am000</td>\n",
       "      <td>antimicrobials</td>\n",
       "    </tr>\n",
       "    <tr>\n",
       "      <th>4</th>\n",
       "      <td>an000</td>\n",
       "      <td>antineoplastics</td>\n",
       "    </tr>\n",
       "  </tbody>\n",
       "</table>\n",
       "</div>"
      ],
      "text/plain": [
       "  drug_major_class                    drug_major_class_desc\n",
       "0                0                          unknown/missing\n",
       "1            ad000  antidotes,deterrents and poison control\n",
       "2            ah000                           antihistamines\n",
       "3            am000                           antimicrobials\n",
       "4            an000                          antineoplastics"
      ]
     },
     "execution_count": 45,
     "metadata": {},
     "output_type": "execute_result"
    }
   ],
   "source": [
    "drug_major_class.head()"
   ]
  },
  {
   "cell_type": "markdown",
   "metadata": {
    "deletable": true,
    "editable": true
   },
   "source": [
    "and "
   ]
  },
  {
   "cell_type": "code",
   "execution_count": 46,
   "metadata": {
    "collapsed": false,
    "deletable": true,
    "editable": true
   },
   "outputs": [
    {
     "data": {
      "text/html": [
       "<div>\n",
       "<table border=\"1\" class=\"dataframe\">\n",
       "  <thead>\n",
       "    <tr style=\"text-align: right;\">\n",
       "      <th></th>\n",
       "      <th>drug_class</th>\n",
       "      <th>drug_class_desc</th>\n",
       "    </tr>\n",
       "  </thead>\n",
       "  <tbody>\n",
       "    <tr>\n",
       "      <th>0</th>\n",
       "      <td>0</td>\n",
       "      <td>unknown/missing</td>\n",
       "    </tr>\n",
       "    <tr>\n",
       "      <th>1</th>\n",
       "      <td>ad100</td>\n",
       "      <td>alcohol deterrents</td>\n",
       "    </tr>\n",
       "    <tr>\n",
       "      <th>2</th>\n",
       "      <td>ad200</td>\n",
       "      <td>cyanide antidotes</td>\n",
       "    </tr>\n",
       "    <tr>\n",
       "      <th>3</th>\n",
       "      <td>ad300</td>\n",
       "      <td>heavy metal antagonists</td>\n",
       "    </tr>\n",
       "    <tr>\n",
       "      <th>4</th>\n",
       "      <td>ad400</td>\n",
       "      <td>antidotes,deterrents,and poison control exchan...</td>\n",
       "    </tr>\n",
       "  </tbody>\n",
       "</table>\n",
       "</div>"
      ],
      "text/plain": [
       "  drug_class                                    drug_class_desc\n",
       "0          0                                    unknown/missing\n",
       "1      ad100                                 alcohol deterrents\n",
       "2      ad200                                  cyanide antidotes\n",
       "3      ad300                            heavy metal antagonists\n",
       "4      ad400  antidotes,deterrents,and poison control exchan..."
      ]
     },
     "execution_count": 46,
     "metadata": {},
     "output_type": "execute_result"
    }
   ],
   "source": [
    "drug_class.head()"
   ]
  },
  {
   "cell_type": "markdown",
   "metadata": {
    "deletable": true,
    "editable": true
   },
   "source": [
    "have the identifiers for the major and minor drug classes.\n",
    "\n",
    "I'm going to add four columns to `drugnames`, one for each major and minor drug class, and one for the string representations of those classes, which will make the table bigger, but easier to use in the long term."
   ]
  },
  {
   "cell_type": "code",
   "execution_count": 47,
   "metadata": {
    "collapsed": true,
    "deletable": true,
    "editable": true
   },
   "outputs": [],
   "source": [
    "drugnames[\"drug_major_class\"] = \"\"\n",
    "drugnames[\"dmc_name\"] = \"\"\n",
    "drugnames[\"drug_class\"] = \"\"\n",
    "drugnames[\"dc_name\"] = \"\""
   ]
  },
  {
   "cell_type": "code",
   "execution_count": 48,
   "metadata": {
    "collapsed": false
   },
   "outputs": [
    {
     "data": {
      "text/html": [
       "<div>\n",
       "<table border=\"1\" class=\"dataframe\">\n",
       "  <thead>\n",
       "    <tr style=\"text-align: right;\">\n",
       "      <th></th>\n",
       "      <th>drugname_brand</th>\n",
       "      <th>drugname_generic</th>\n",
       "      <th>rxnorm_rxcui</th>\n",
       "      <th>drug_major_class</th>\n",
       "      <th>dmc_name</th>\n",
       "      <th>drug_class</th>\n",
       "      <th>dc_name</th>\n",
       "    </tr>\n",
       "  </thead>\n",
       "  <tbody>\n",
       "    <tr>\n",
       "      <th>0</th>\n",
       "      <td>10 wash</td>\n",
       "      <td>sulfacetamide sodium</td>\n",
       "      <td>10169</td>\n",
       "      <td></td>\n",
       "      <td></td>\n",
       "      <td></td>\n",
       "      <td></td>\n",
       "    </tr>\n",
       "    <tr>\n",
       "      <th>1</th>\n",
       "      <td>1st tier unifine pentips</td>\n",
       "      <td>pen needle, diabetic</td>\n",
       "      <td>0</td>\n",
       "      <td></td>\n",
       "      <td></td>\n",
       "      <td></td>\n",
       "      <td></td>\n",
       "    </tr>\n",
       "    <tr>\n",
       "      <th>2</th>\n",
       "      <td>1st tier unifine pentips plus</td>\n",
       "      <td>pen needle, diabetic</td>\n",
       "      <td>0</td>\n",
       "      <td></td>\n",
       "      <td></td>\n",
       "      <td></td>\n",
       "      <td></td>\n",
       "    </tr>\n",
       "    <tr>\n",
       "      <th>3</th>\n",
       "      <td>60pse-400gfn-20dm</td>\n",
       "      <td>guaifenesin/dm/pseudoephedrine</td>\n",
       "      <td>5032|8896</td>\n",
       "      <td></td>\n",
       "      <td></td>\n",
       "      <td></td>\n",
       "      <td></td>\n",
       "    </tr>\n",
       "    <tr>\n",
       "      <th>4</th>\n",
       "      <td>8-mop</td>\n",
       "      <td>methoxsalen</td>\n",
       "      <td>6854|227713</td>\n",
       "      <td></td>\n",
       "      <td></td>\n",
       "      <td></td>\n",
       "      <td></td>\n",
       "    </tr>\n",
       "  </tbody>\n",
       "</table>\n",
       "</div>"
      ],
      "text/plain": [
       "                  drugname_brand                drugname_generic rxnorm_rxcui  \\\n",
       "0                        10 wash            sulfacetamide sodium        10169   \n",
       "1       1st tier unifine pentips            pen needle, diabetic            0   \n",
       "2  1st tier unifine pentips plus            pen needle, diabetic            0   \n",
       "3              60pse-400gfn-20dm  guaifenesin/dm/pseudoephedrine    5032|8896   \n",
       "4                          8-mop                     methoxsalen  6854|227713   \n",
       "\n",
       "  drug_major_class dmc_name drug_class dc_name  \n",
       "0                                               \n",
       "1                                               \n",
       "2                                               \n",
       "3                                               \n",
       "4                                               "
      ]
     },
     "execution_count": 48,
     "metadata": {},
     "output_type": "execute_result"
    }
   ],
   "source": [
    "drugnames.head()"
   ]
  },
  {
   "cell_type": "markdown",
   "metadata": {
    "deletable": true,
    "editable": true
   },
   "source": [
    "It looks like there are a bunch of drug classes that don't match between the drug classes in the key and the drug classes in the table. Because of course there are. \n",
    "**For now, any drug class we don't have an explanation for will be considered missing!**\n",
    "\n",
    "How many are those?"
   ]
  },
  {
   "cell_type": "code",
   "execution_count": 49,
   "metadata": {
    "collapsed": false,
    "deletable": true,
    "editable": true
   },
   "outputs": [],
   "source": [
    "drugnames[\"rxnorm_rxcui\"] = drugnames[\"rxnorm_rxcui\"].astype(str)"
   ]
  },
  {
   "cell_type": "code",
   "execution_count": 50,
   "metadata": {
    "collapsed": false,
    "deletable": true,
    "editable": true,
    "scrolled": false
   },
   "outputs": [],
   "source": [
    "for idx in drugnames.index:\n",
    "\n",
    "    drug_rxcui = drugnames.loc[idx, \"rxnorm_rxcui\"].split(\"|\")\n",
    "    dmc, dc = [], []\n",
    "    for rxcui in drug_rxcui:\n",
    "        r = puf[puf[\"rxnorm_rxcui\"] == np.float(rxcui)]\n",
    "        rxc = r.loc[r.index, \"rxnorm_rxcui\"].unique()\n",
    "\n",
    "        dmc.extend(r.loc[r.index, \"drug_major_class\"].unique())\n",
    "        dc.extend(r.loc[r.index, \"drug_class\"].unique())\n",
    "\n",
    "\n",
    "    dmc = np.unique(dmc)\n",
    "    dc = np.unique(dc)\n",
    "\n",
    "    if len(dmc) != 0:\n",
    "        drugnames.loc[idx, \"drug_major_class\"] = \"|\".join(dmc)\n",
    "        dmc_name = np.hstack([drug_major_class.loc[drug_major_class[\"drug_major_class\"] == d, \n",
    "                                                   \"drug_major_class_desc\"].values for d in dmc])\n",
    "        drugnames.loc[idx, \"dmc_name\"] = \"|\".join(dmc_name)\n",
    "\n",
    "    else:\n",
    "        drugnames.loc[idx, \"drug_major_class\"] = \"0\"\n",
    "        drugnames.loc[idx, \"dmc_name\"] = \"0\"\n",
    "\n",
    "    if len(dc) != 0:\n",
    "        drugnames.loc[idx, \"drug_class\"] = \"|\".join(dc)\n",
    "        dc_name = np.hstack([drug_class.loc[drug_class[\"drug_class\"] == d, \n",
    "                                            \"drug_class_desc\"].values for d in dc])   \n",
    "\n",
    "        drugnames.loc[idx, \"dc_name\"] = \"|\".join(dc_name)\n",
    "    else:\n",
    "        drugnames.loc[idx, \"drug_class\"] = \"0\"\n",
    "        drugnames.loc[idx, \"dc_name\"] = \"0\"\n"
   ]
  },
  {
   "cell_type": "code",
   "execution_count": null,
   "metadata": {
    "collapsed": false,
    "deletable": true,
    "editable": true
   },
   "outputs": [],
   "source": [
    "drugnames.head()"
   ]
  },
  {
   "cell_type": "markdown",
   "metadata": {},
   "source": [
    "Let's make the class names lowercase"
   ]
  },
  {
   "cell_type": "code",
   "execution_count": null,
   "metadata": {
    "collapsed": true
   },
   "outputs": [],
   "source": []
  },
  {
   "cell_type": "code",
   "execution_count": null,
   "metadata": {
    "collapsed": true,
    "deletable": true,
    "editable": true
   },
   "outputs": [],
   "source": [
    "# Serialize drug names to feather file for use in both Python and R\n",
    "import feather\n",
    "feather.write_dataframe(drugnames, data_dir + 'drugnames_withclasses.feather')"
   ]
  }
 ],
 "metadata": {
  "kernelspec": {
   "display_name": "Python 3",
   "language": "python",
   "name": "python3"
  },
  "language_info": {
   "codemirror_mode": {
    "name": "ipython",
    "version": 3
   },
   "file_extension": ".py",
   "mimetype": "text/x-python",
   "name": "python",
   "nbconvert_exporter": "python",
   "pygments_lexer": "ipython3",
   "version": "3.5.3"
  }
 },
 "nbformat": 4,
 "nbformat_minor": 0
}
